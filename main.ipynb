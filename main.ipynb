{
 "cells": [
  {
   "cell_type": "code",
   "execution_count": 1,
   "metadata": {},
   "outputs": [],
   "source": [
    "import os\n",
    "from igmapper import authorize, bold_str"
   ]
  },
  {
   "cell_type": "code",
   "execution_count": 2,
   "metadata": {},
   "outputs": [],
   "source": [
    "CWD = os.getcwd()  # current working directory\n",
    "SRC, LOG = f\"{CWD}/src\", f\"{CWD}/logs\"\n",
    "PKL = f\"{SRC}/cookies.pkl\"\n",
    "\n",
    "CHROMEDRIVER = f\"{CWD}/chromedriver\"\n",
    "URL = \"https://instagram.com/\"\n",
    "XPATH_CONTAINER_FEED = \"//*[contains(@class, 'xw7yly9')]\""
   ]
  },
  {
   "cell_type": "code",
   "execution_count": 3,
   "metadata": {},
   "outputs": [
    {
     "name": "stdout",
     "output_type": "stream",
     "text": [
      "\u001b[1mLogin • Instagram\u001b[0m\n",
      "\u001b[3mYou need to login to continue\u001b[0m\n"
     ]
    },
    {
     "name": "stderr",
     "output_type": "stream",
     "text": [
      "Waiting...: 100%|██████████| 60/60 [01:00<00:00,  1.00s/it]"
     ]
    },
    {
     "name": "stdout",
     "output_type": "stream",
     "text": [
      "Cookie file founded...\n"
     ]
    },
    {
     "name": "stderr",
     "output_type": "stream",
     "text": [
      "\n"
     ]
    },
    {
     "data": {
      "text/plain": [
       "'/home/lucas/Development/Side Projects/igmapper-api/src/cookies.pkl'"
      ]
     },
     "execution_count": 3,
     "metadata": {},
     "output_type": "execute_result"
    }
   ],
   "source": [
    "auth = authorize()\n",
    "auth"
   ]
  },
  {
   "cell_type": "code",
   "execution_count": 17,
   "metadata": {},
   "outputs": [
    {
     "ename": "UnicodeDecodeError",
     "evalue": "'utf-8' codec can't decode byte 0x80 in position 0: invalid start byte",
     "output_type": "error",
     "traceback": [
      "\u001b[0;31m---------------------------------------------------------------------------\u001b[0m",
      "\u001b[0;31mUnicodeDecodeError\u001b[0m                        Traceback (most recent call last)",
      "Cell \u001b[0;32mIn[17], line 1\u001b[0m\n\u001b[0;32m----> 1\u001b[0m c \u001b[38;5;241m=\u001b[39m \u001b[38;5;28;43mopen\u001b[39;49m\u001b[43m(\u001b[49m\u001b[43mPKL\u001b[49m\u001b[43m,\u001b[49m\u001b[43m \u001b[49m\u001b[38;5;124;43m\"\u001b[39;49m\u001b[38;5;124;43mrUt\u001b[39;49m\u001b[38;5;124;43m\"\u001b[39;49m\u001b[43m)\u001b[49m\u001b[38;5;241;43m.\u001b[39;49m\u001b[43mread\u001b[49m\u001b[43m(\u001b[49m\u001b[43m)\u001b[49m\n\u001b[1;32m      2\u001b[0m \u001b[38;5;28mprint\u001b[39m(c)\n",
      "File \u001b[0;32m/usr/lib/python3.10/codecs.py:322\u001b[0m, in \u001b[0;36mBufferedIncrementalDecoder.decode\u001b[0;34m(self, input, final)\u001b[0m\n\u001b[1;32m    319\u001b[0m \u001b[38;5;28;01mdef\u001b[39;00m \u001b[38;5;21mdecode\u001b[39m(\u001b[38;5;28mself\u001b[39m, \u001b[38;5;28minput\u001b[39m, final\u001b[38;5;241m=\u001b[39m\u001b[38;5;28;01mFalse\u001b[39;00m):\n\u001b[1;32m    320\u001b[0m     \u001b[38;5;66;03m# decode input (taking the buffer into account)\u001b[39;00m\n\u001b[1;32m    321\u001b[0m     data \u001b[38;5;241m=\u001b[39m \u001b[38;5;28mself\u001b[39m\u001b[38;5;241m.\u001b[39mbuffer \u001b[38;5;241m+\u001b[39m \u001b[38;5;28minput\u001b[39m\n\u001b[0;32m--> 322\u001b[0m     (result, consumed) \u001b[38;5;241m=\u001b[39m \u001b[38;5;28;43mself\u001b[39;49m\u001b[38;5;241;43m.\u001b[39;49m\u001b[43m_buffer_decode\u001b[49m\u001b[43m(\u001b[49m\u001b[43mdata\u001b[49m\u001b[43m,\u001b[49m\u001b[43m \u001b[49m\u001b[38;5;28;43mself\u001b[39;49m\u001b[38;5;241;43m.\u001b[39;49m\u001b[43merrors\u001b[49m\u001b[43m,\u001b[49m\u001b[43m \u001b[49m\u001b[43mfinal\u001b[49m\u001b[43m)\u001b[49m\n\u001b[1;32m    323\u001b[0m     \u001b[38;5;66;03m# keep undecoded input until the next call\u001b[39;00m\n\u001b[1;32m    324\u001b[0m     \u001b[38;5;28mself\u001b[39m\u001b[38;5;241m.\u001b[39mbuffer \u001b[38;5;241m=\u001b[39m data[consumed:]\n",
      "\u001b[0;31mUnicodeDecodeError\u001b[0m: 'utf-8' codec can't decode byte 0x80 in position 0: invalid start byte"
     ]
    }
   ],
   "source": [
    "c = open(PKL, \"rUt\").read()\n",
    "print(c)"
   ]
  },
  {
   "cell_type": "code",
   "execution_count": null,
   "metadata": {},
   "outputs": [
    {
     "name": "stdout",
     "output_type": "stream",
     "text": [
      "Cookie file founded...\n",
      "Retrieving user account ID...\n"
     ]
    },
    {
     "ename": "NameError",
     "evalue": "name 'getUserProfileInfo' is not defined",
     "output_type": "error",
     "traceback": [
      "\u001b[0;31m---------------------------------------------------------------------------\u001b[0m",
      "\u001b[0;31mNameError\u001b[0m                                 Traceback (most recent call last)",
      "Cell \u001b[0;32mIn[12], line 31\u001b[0m\n\u001b[1;32m     28\u001b[0m \u001b[38;5;66;03m# Retrieve user account information\u001b[39;00m\n\u001b[1;32m     30\u001b[0m \u001b[38;5;28mprint\u001b[39m(\u001b[38;5;124m\"\u001b[39m\u001b[38;5;124mRetrieving user account ID...\u001b[39m\u001b[38;5;124m\"\u001b[39m)\n\u001b[0;32m---> 31\u001b[0m acc \u001b[38;5;241m=\u001b[39m \u001b[43mgetUserProfileInfo\u001b[49m(usr, csrftoken)\n\u001b[1;32m     33\u001b[0m \u001b[38;5;66;03m# If the account information could not be retrieved, exit the program\u001b[39;00m\n\u001b[1;32m     34\u001b[0m \u001b[38;5;28;01mif\u001b[39;00m \u001b[38;5;129;01mnot\u001b[39;00m acc:\n",
      "\u001b[0;31mNameError\u001b[0m: name 'getUserProfileInfo' is not defined"
     ]
    }
   ],
   "source": [
    "usr = igp.username\n",
    "following_csv = f\"{LOG}/{usr}_following.csv\"\n",
    "followers_csv = f\"{LOG}/{usr}_followers.csv\"\n",
    "non_followers_csv = f\"{LOG}/{usr}_non_followers.csv\"\n",
    "\n",
    "\n",
    "# Retrieve user account information\n",
    "\n",
    "print(\"Retrieving user account ID...\")\n",
    "acc = getUserProfileInfo(usr, csrftoken)\n",
    "\n",
    "# If the account information could not be retrieved, exit the program\n",
    "if not acc:\n",
    "    print(\"Failed to retrieve account information. Exiting.\")\n",
    "    exit(1)\n",
    "else:\n",
    "    # Save account profile information to a JSON log file\n",
    "    open(f\"{LOG}/{usr}-profile_info.json\", \"w\").write(str(acc))\n",
    "\n",
    "    # Extract user ID from the fetched account data\n",
    "    user = acc[\"data\"][\"user\"]\n",
    "    user_id = user[\"id\"]\n",
    "\n",
    "bio = user[\"biography\"]\n",
    "bio_links = user[\"bio_links\"]\n",
    "category_name = user[\"category_name\"]\n",
    "follow = user[\"edge_follow\"][\"count\"]\n",
    "followed = user[\"edge_followed_by\"][\"count\"]\n",
    "full_name = user[\"full_name\"]\n",
    "is_private = user[\"is_private\"]\n",
    "is_verified = user[\"is_verified\"]\n",
    "posts_count = user[\"edge_owner_to_timeline_media\"][\"count\"]\n",
    "\n",
    "# {italic(f'https://www.instagram.com/{usr}')}\n",
    "output = f\"\"\"{bold_str('Investigated profile:')}\n",
    "－ {usr} {\"🟓\" if is_verified else \"\"}\n",
    "－ {bold_str(posts_count)} posts     {bold_str(followed)} followers     {bold_str(follow)} following\n",
    "－ {full_name if full_name else \"No name\"}\n",
    "－ {italic(category_name) if category_name else \"No category\"}\n",
    "－ \"{bio if bio else \"No bio\"}\"\n",
    "－ {f'{[i[\"url\"] for i in bio_links]}' if bio_links else \"No links\"}\n",
    "－ {bold_str('This account is private') if is_private else \"Public account\"}\"\"\"\n",
    "print(output)\n",
    "# Retrieve the user's followers and following lists using the user ID\n",
    "try:\n",
    "    print(\"Get followers...\")\n",
    "    acc_followers = getUserFollowers(user_id, csrftoken, sessionid)\n",
    "    print(\"Get following...\")\n",
    "    acc_following = getUserFollowing(user_id, csrftoken, sessionid)\n",
    "except Exception as e:\n",
    "    exit()\n",
    "# Create dictionaries to store 'following' and 'followers' details\n",
    "following_dict, followers_dict = {}, {}\n",
    "\n",
    "# Populate the 'following' dictionary with usernames and full names\n",
    "print(\"Building following dictionary...\")\n",
    "for i in acc_following:\n",
    "    usr = i.get(\"username\")\n",
    "    following_dict[usr] = i.get(\"full_name\")\n",
    "\n",
    "# Populate the 'followers' dictionary with usernames and full names\n",
    "print(\"Building followers dictionary...\")\n",
    "for i in acc_followers:\n",
    "    usr = i.get(\"username\")\n",
    "    followers_dict[usr] = i.get(\"full_name\")\n",
    "\n",
    "# Find users that are in 'following' but not in 'followers' (people who don't follow back)\n",
    "print(\"Get non followers...\")\n",
    "non_followers = [i for i in following_dict if i not in followers_dict]\n",
    "csv_columns = [\"Index\", \"Full Name\", \"Username\", \"Profile URL\"]\n",
    "\n",
    "# 1. \"Não seguidores\" (quem você segue, mas não te segue de volta)\n",
    "if non_followers:\n",
    "    if input(bold_str(\"Save non followers list? [Y/n]: \")).strip().lower() in (\"\", \"y\"):\n",
    "        data = []\n",
    "        for i, usr in enumerate(sorted(non_followers), 1):\n",
    "            fullname, profile_url = following_dict[usr], f\"{URL}{usr}\"\n",
    "            data.append([i, fullname, usr, profile_url])\n",
    "\n",
    "        # Salvar no CSV\n",
    "        save_to_csv(non_followers_csv, data, csv_columns)\n",
    "\n",
    "if input(bold_str(\"Save following list? [Y/n]: \")).strip().lower() in (\"\", \"y\"):\n",
    "    data = [\n",
    "        [i, usr[\"full_name\"], usr[\"username\"], f\"{URL}{usr['username']}\"]\n",
    "        for i, usr in enumerate(acc_following, 1)\n",
    "    ]\n",
    "    save_to_csv(following_csv, data, csv_columns)\n",
    "\n",
    "# 3. Lista de \"seguidores\"\n",
    "if input(bold_str(\"Save followers list? [Y/n]: \")).strip().lower() in (\"\", \"y\"):\n",
    "    data = [\n",
    "        [i, usr[\"full_name\"], usr[\"username\"], f\"{URL}{usr['username']}\"]\n",
    "        for i, usr in enumerate(acc_followers, 1)\n",
    "    ]\n",
    "    save_to_csv(followers_csv, data, csv_columns)"
   ]
  }
 ],
 "metadata": {
  "kernelspec": {
   "display_name": ".venv",
   "language": "python",
   "name": "python3"
  },
  "language_info": {
   "codemirror_mode": {
    "name": "ipython",
    "version": 3
   },
   "file_extension": ".py",
   "mimetype": "text/x-python",
   "name": "python",
   "nbconvert_exporter": "python",
   "pygments_lexer": "ipython3",
   "version": "3.10.15"
  }
 },
 "nbformat": 4,
 "nbformat_minor": 2
}
