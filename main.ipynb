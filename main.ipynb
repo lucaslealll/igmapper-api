{
 "cells": [
  {
   "cell_type": "code",
   "execution_count": 4,
   "metadata": {},
   "outputs": [],
   "source": [
    "import csv\n",
    "import os\n",
    "import pickle\n",
    "from datetime import datetime as dtm\n",
    "from time import sleep\n",
    "\n",
    "from igmapper import (\n",
    "    bold_str,\n",
    "    extract_cookies,\n",
    "    friendships_followers,\n",
    "    friendships_following,\n",
    "    italic_str,\n",
    "    save_to_csv,\n",
    "    start_browser,\n",
    "    web_profile_info,\n",
    ")"
   ]
  },
  {
   "cell_type": "code",
   "execution_count": 5,
   "metadata": {},
   "outputs": [],
   "source": [
    "\n",
    "# Define paths for source and logs\n",
    "CWD = os.getcwd()  # current working directory\n",
    "SRC, LOG = f\"{CWD}/src\", f\"{CWD}/logs\"\n",
    "PKL = f\"{SRC}/cookies.pkl\"\n",
    "\n",
    "CHROMEDRIVER = f\"{CWD}/chromedriver\"\n",
    "URL = \"https://instagram.com/\"\n",
    "XPATH_CONTAINER_FEED = \"//*[contains(@class, 'xw7yly9')]\""
   ]
  },
  {
   "cell_type": "code",
   "execution_count": 6,
   "metadata": {},
   "outputs": [
    {
     "name": "stdout",
     "output_type": "stream",
     "text": [
      "\u001b[1mInstagram Followers & Unfollowers\u001b[0m\n",
      "\n"
     ]
    }
   ],
   "source": [
    "print(f\"{bold_str('Instagram Followers & Unfollowers')}\\n\")\n",
    "\n",
    "usr = input(bold_str(\"Enter the Instagram username (without '@'): \"))\n",
    "if not usr:\n",
    "    print(\"No username provided. Exiting.\")\n",
    "    exit(1)"
   ]
  },
  {
   "cell_type": "code",
   "execution_count": 7,
   "metadata": {},
   "outputs": [],
   "source": [
    "following_csv = f\"{LOG}/{usr}_following.csv\"\n",
    "followers_csv = f\"{LOG}/{usr}_followers.csv\"\n",
    "non_followers_csv = f\"{LOG}/{usr}_non_followers.csv\"\n",
    "cookie_valid, retry = False, 1"
   ]
  },
  {
   "cell_type": "code",
   "execution_count": 8,
   "metadata": {},
   "outputs": [
    {
     "name": "stdout",
     "output_type": "stream",
     "text": [
      "Cookie file founded...\n"
     ]
    }
   ],
   "source": [
    "while cookie_valid == False and retry <= 3:\n",
    "    retry += 1\n",
    "    try:\n",
    "        cookie = pickle.load(open(PKL, \"rb\"))\n",
    "        print(\"Cookie file founded...\")\n",
    "\n",
    "        for i in cookie:\n",
    "            if \"csrftoken\" in i[\"name\"]:\n",
    "                csrftoken = i[\"value\"]\n",
    "            if \"sessionid\" in i[\"name\"]:\n",
    "                sessionid, expiry = i[\"value\"], i[\"expiry\"]\n",
    "\n",
    "        expiry, now = dtm.fromtimestamp(expiry), dtm.now()\n",
    "        if now > expiry:\n",
    "            raise\n",
    "        cookie_valid = True\n",
    "    except:\n",
    "        print(\n",
    "            f\"{bold_str('Login • Instagram')}\\n{italic_str('You need to login to continue')}\"\n",
    "        )\n",
    "        driver = start_browser(URL, CHROMEDRIVER, False, True)\n",
    "        sleep(60)\n",
    "        extract_cookies(driver, SRC)\n",
    "# Retrieve user account information"
   ]
  },
  {
   "cell_type": "code",
   "execution_count": 9,
   "metadata": {},
   "outputs": [
    {
     "name": "stdout",
     "output_type": "stream",
     "text": [
      "Retrieving user account ID...\n"
     ]
    }
   ],
   "source": [
    "print(\"Retrieving user account ID...\")\n",
    "acc = web_profile_info(usr, csrftoken)"
   ]
  },
  {
   "cell_type": "code",
   "execution_count": 10,
   "metadata": {},
   "outputs": [],
   "source": [
    "# If the account information could not be retrieved, exit the program\n",
    "if not acc:\n",
    "    print(\"Failed to retrieve account information. Exiting.\")\n",
    "    exit(1)\n",
    "else:\n",
    "    # Save account profile information to a JSON log file\n",
    "    open(f\"{LOG}/{usr}-profile_info.json\", \"w\").write(str(acc))\n",
    "\n",
    "    # Extract user ID from the fetched account data\n",
    "    user = acc[\"data\"][\"user\"]\n",
    "    user_id = user[\"id\"]"
   ]
  },
  {
   "cell_type": "code",
   "execution_count": 11,
   "metadata": {},
   "outputs": [
    {
     "name": "stdout",
     "output_type": "stream",
     "text": [
      "\u001b[1mInvestigated profile:\u001b[0m\n",
      "    l4data3 \n",
      "    \u001b[1m0\u001b[0m posts     \u001b[1m6\u001b[0m followers     \u001b[1m22\u001b[0m following\n",
      "    l4\n",
      "    No category\n",
      "    \"Quem tem luz própria jamais ficará na escuridão. 🌟\"\n",
      "    No links\n",
      "    Public account\n"
     ]
    }
   ],
   "source": [
    "bio = user[\"biography\"]\n",
    "bio_links = user[\"bio_links\"]\n",
    "category_name = user[\"category_name\"]\n",
    "follow = user[\"edge_follow\"][\"count\"]\n",
    "followed = user[\"edge_followed_by\"][\"count\"]\n",
    "full_name = user[\"full_name\"]\n",
    "is_private = user[\"is_private\"]\n",
    "is_verified = user[\"is_verified\"]\n",
    "posts_count = user[\"edge_owner_to_timeline_media\"][\"count\"]\n",
    "profile_pic_url_hd = user[\"profile_pic_url_hd\"]\n",
    "\n",
    "# {italic_str(f'https://www.instagram.com/{usr}')}\n",
    "output = f\"\"\"{bold_str('Investigated profile:')}\n",
    "    {usr} {\"🟓\" if is_verified else \"\"}\n",
    "    {bold_str(posts_count)} posts     {bold_str(followed)} followers     {bold_str(follow)} following\n",
    "    {full_name if full_name else \"No name\"}\n",
    "    {italic_str(category_name) if category_name else \"No category\"}\n",
    "    \"{bio if bio else \"No bio\"}\"\n",
    "    {f'{[i[\"url\"] for i in bio_links]}' if bio_links else \"No links\"}\n",
    "    {bold_str('This account is private') if is_private else \"Public account\"}\"\"\"\n",
    "print(output)"
   ]
  },
  {
   "cell_type": "code",
   "execution_count": null,
   "metadata": {},
   "outputs": [],
   "source": [
    "# Retrieve the user's followers and following lists using the user ID\n",
    "try:\n",
    "    print(\"Get followers...\")\n",
    "    acc_followers = friendships_followers(user_id, csrftoken, sessionid)\n",
    "    print(\"Get following...\")\n",
    "    acc_following = friendships_following(user_id, csrftoken, sessionid)\n",
    "except Exception as e:\n",
    "    exit()\n",
    "# Create dictionaries to store 'following' and 'followers' details\n",
    "following_dict, followers_dict = {}, {}\n",
    "# Populate the 'following' dictionary with usernames and full names\n",
    "print(\"Building following dictionary...\")\n",
    "for i in acc_following:\n",
    "    usr = i.get(\"username\")\n",
    "    following_dict[usr] = i.get(\"full_name\")\n",
    "# Populate the 'followers' dictionary with usernames and full names\n",
    "print(\"Building followers dictionary...\")\n",
    "for i in acc_followers:\n",
    "    usr = i.get(\"username\")\n",
    "    followers_dict[usr] = i.get(\"full_name\")\n",
    "# Find users that are in 'following' but not in 'followers' (people who don't follow back)\n",
    "print(\"Get non followers...\")\n",
    "non_followers = [i for i in following_dict if i not in followers_dict]\n",
    "csv_columns = [\"Index\", \"Full Name\", \"Username\", \"Profile URL\"]"
   ]
  },
  {
   "cell_type": "code",
   "execution_count": null,
   "metadata": {},
   "outputs": [],
   "source": [
    "# 1. \"Não seguidores\" (quem você segue, mas não te segue de volta)\n",
    "if non_followers:\n",
    "    data = []\n",
    "    for i, usr in enumerate(sorted(non_followers), 1):\n",
    "        fullname, profile_url = following_dict[usr], f\"{URL}{usr}\"\n",
    "        data.append([i, fullname, usr, profile_url])\n",
    "        print(f\"{fullname}, {usr}, {profile_url}\")\n",
    "\n",
    "    if input(bold_str(\"Save non followers list? [Y/n]: \")).strip().lower() in (\"\", \"y\"):\n",
    "        # Salvar no CSV\n",
    "        save_to_csv(non_followers_csv, data, csv_columns)"
   ]
  },
  {
   "cell_type": "code",
   "execution_count": 17,
   "metadata": {},
   "outputs": [],
   "source": [
    "if input(bold_str(\"Save following list? [Y/n]: \")).strip().lower() in (\"\", \"y\"):\n",
    "    data = [\n",
    "        [i, usr[\"full_name\"], usr[\"username\"], f\"{URL}{usr['username']}\"]\n",
    "        for i, usr in enumerate(acc_following, 1)\n",
    "    ]\n",
    "    save_to_csv(following_csv, data, csv_columns)"
   ]
  },
  {
   "cell_type": "code",
   "execution_count": 18,
   "metadata": {},
   "outputs": [],
   "source": [
    "# 3. Lista de \"seguidores\"\n",
    "if input(bold_str(\"Save followers list? [Y/n]: \")).strip().lower() in (\"\", \"y\"):\n",
    "    data = [\n",
    "        [i, usr[\"full_name\"], usr[\"username\"], f\"{URL}{usr['username']}\"]\n",
    "        for i, usr in enumerate(acc_followers, 1)\n",
    "    ]\n",
    "    save_to_csv(followers_csv, data, csv_columns)"
   ]
  }
 ],
 "metadata": {
  "kernelspec": {
   "display_name": ".venv",
   "language": "python",
   "name": "python3"
  },
  "language_info": {
   "codemirror_mode": {
    "name": "ipython",
    "version": 3
   },
   "file_extension": ".py",
   "mimetype": "text/x-python",
   "name": "python",
   "nbconvert_exporter": "python",
   "pygments_lexer": "ipython3",
   "version": "3.12.3"
  }
 },
 "nbformat": 4,
 "nbformat_minor": 2
}
